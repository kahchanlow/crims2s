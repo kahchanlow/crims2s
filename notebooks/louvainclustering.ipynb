{
 "cells": [
  {
   "cell_type": "code",
   "execution_count": 18,
   "id": "dabc7dc9",
   "metadata": {},
   "outputs": [],
   "source": [
    "from Orange.clustering import hierarchical"
   ]
  },
  {
   "cell_type": "code",
   "execution_count": 19,
   "id": "477d8a1d",
   "metadata": {},
   "outputs": [
    {
     "name": "stdout",
     "output_type": "stream",
     "text": [
      "C:\\Users\\kahch\\anaconda3\\lib\\site-packages\\Orange\\clustering\\hierarchical.py\n"
     ]
    }
   ],
   "source": [
    "print(hierarchical.__file__)"
   ]
  },
  {
   "cell_type": "code",
   "execution_count": 20,
   "id": "f983ff56",
   "metadata": {},
   "outputs": [],
   "source": [
    "data = Orange.data.Table(\"yearly_winter_anomalies.csv\")"
   ]
  },
  {
   "cell_type": "code",
   "execution_count": 29,
   "id": "aa5d704a",
   "metadata": {},
   "outputs": [
    {
     "data": {
      "text/plain": [
       "40"
      ]
     },
     "execution_count": 29,
     "metadata": {},
     "output_type": "execute_result"
    }
   ],
   "source": [
    "len(data)"
   ]
  },
  {
   "cell_type": "code",
   "execution_count": 36,
   "id": "054effd5",
   "metadata": {},
   "outputs": [],
   "source": [
    "from Orange.clustering import louvain as lv\n",
    "louvain = lv.Louvain(10, resolution=1.6)\n",
    "clusters = louvain(data[1:])"
   ]
  },
  {
   "cell_type": "code",
   "execution_count": 37,
   "id": "bb292af8",
   "metadata": {},
   "outputs": [
    {
     "data": {
      "text/plain": [
       "array([0, 1, 1, 2, 0, 0, 1, 0, 0, 0, 0, 2, 0, 0, 1, 2, 1, 2, 2, 2, 0, 1,\n",
       "       2, 1, 1, 0, 2, 2, 2, 0, 0, 1, 2, 2, 1, 1, 2, 2, 0])"
      ]
     },
     "execution_count": 37,
     "metadata": {},
     "output_type": "execute_result"
    }
   ],
   "source": [
    "clusters"
   ]
  },
  {
   "cell_type": "code",
   "execution_count": null,
   "id": "e327e1c1",
   "metadata": {},
   "outputs": [],
   "source": []
  }
 ],
 "metadata": {
  "kernelspec": {
   "display_name": "Python 3 (ipykernel)",
   "language": "python",
   "name": "python3"
  },
  "language_info": {
   "codemirror_mode": {
    "name": "ipython",
    "version": 3
   },
   "file_extension": ".py",
   "mimetype": "text/x-python",
   "name": "python",
   "nbconvert_exporter": "python",
   "pygments_lexer": "ipython3",
   "version": "3.9.12"
  }
 },
 "nbformat": 4,
 "nbformat_minor": 5
}
