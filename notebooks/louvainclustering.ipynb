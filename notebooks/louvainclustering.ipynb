{
 "cells": [
  {
   "cell_type": "code",
   "execution_count": 5,
   "id": "2758b161",
   "metadata": {},
   "outputs": [],
   "source": [
    "import Orange"
   ]
  },
  {
   "cell_type": "code",
   "execution_count": 10,
   "id": "35fb79de",
   "metadata": {},
   "outputs": [
    {
     "name": "stdout",
     "output_type": "stream",
     "text": [
      "C:\\Users\\kahch\\anaconda3\\lib\\site-packages\\Orange\\clustering\\hierarchical.py\n"
     ]
    }
   ],
   "source": [
    "print(hierarchical.__file__)"
   ]
  },
  {
   "cell_type": "code",
   "execution_count": 6,
   "id": "903c31d5",
   "metadata": {},
   "outputs": [],
   "source": [
    "data = Orange.data.Table(\"yearly_winter_anomalies.csv\")"
   ]
  },
  {
   "cell_type": "code",
   "execution_count": 29,
   "id": "28199e27",
   "metadata": {},
   "outputs": [
    {
     "data": {
      "text/plain": [
       "40"
      ]
     },
     "execution_count": 29,
     "metadata": {},
     "output_type": "execute_result"
    }
   ],
   "source": [
    "len(data)"
   ]
  },
  {
   "cell_type": "code",
   "execution_count": 17,
   "id": "699e324f",
   "metadata": {},
   "outputs": [],
   "source": [
    "from Orange.clustering import louvain as lv\n",
    "louvain = lv.Louvain(10, resolution=1.6, random_state=32)\n",
    "clusters = louvain(data[1:])"
   ]
  },
  {
   "cell_type": "code",
   "execution_count": 18,
   "id": "e0ddee1b",
   "metadata": {},
   "outputs": [
    {
     "data": {
      "text/plain": [
       "array([0, 1, 1, 2, 0, 0, 1, 0, 0, 0, 0, 2, 0, 0, 1, 2, 1, 2, 2, 2, 0, 1,\n",
       "       2, 1, 1, 0, 2, 2, 0, 0, 0, 1, 2, 2, 1, 1, 2, 2, 0])"
      ]
     },
     "execution_count": 18,
     "metadata": {},
     "output_type": "execute_result"
    }
   ],
   "source": [
    "clusters"
   ]
  },
  {
   "cell_type": "code",
   "execution_count": 19,
   "id": "4096a932",
   "metadata": {},
   "outputs": [
    {
     "data": {
      "text/plain": [
       "0.49087674618303867"
      ]
     },
     "execution_count": 19,
     "metadata": {},
     "output_type": "execute_result"
    }
   ],
   "source": [
    "import sklearn as sk\n",
    "sk.metrics.silhouette_score(data[1:], clusters)"
   ]
  },
  {
   "cell_type": "code",
   "execution_count": 39,
   "id": "c08a3cff",
   "metadata": {},
   "outputs": [
    {
     "data": {
      "text/plain": [
       "array([ 0.55211297,  0.59192031,  0.66986983,  0.53131057,  0.38869205,\n",
       "        0.60369998,  0.29245547,  0.60159529,  0.57740015,  0.64821815,\n",
       "        0.44019927,  0.56257672,  0.36569055,  0.56366896,  0.54742019,\n",
       "        0.36387764,  0.59601511,  0.48293245,  0.57691091,  0.43790105,\n",
       "        0.52628494,  0.2426022 ,  0.54084012,  0.63401681,  0.62343719,\n",
       "        0.58024401,  0.26406109,  0.07105084, -0.30404864,  0.22891949,\n",
       "        0.63113448,  0.28070206,  0.57592072,  0.49410776,  0.53258522,\n",
       "        0.62159984,  0.5398922 ,  0.57342793,  0.56687196])"
      ]
     },
     "execution_count": 39,
     "metadata": {},
     "output_type": "execute_result"
    }
   ],
   "source": [
    "sk.metrics.silhouette_samples(data[1:], clusters)"
   ]
  },
  {
   "cell_type": "code",
   "execution_count": null,
   "id": "64220cd0",
   "metadata": {},
   "outputs": [],
   "source": []
  }
 ],
 "metadata": {
  "kernelspec": {
   "display_name": "Python 3 (ipykernel)",
   "language": "python",
   "name": "python3"
  },
  "language_info": {
   "codemirror_mode": {
    "name": "ipython",
    "version": 3
   },
   "file_extension": ".py",
   "mimetype": "text/x-python",
   "name": "python",
   "nbconvert_exporter": "python",
   "pygments_lexer": "ipython3",
   "version": "3.9.12"
  }
 },
 "nbformat": 4,
 "nbformat_minor": 5
}
