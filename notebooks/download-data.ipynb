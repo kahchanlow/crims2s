{
 "cells": [
  {
   "cell_type": "markdown",
   "id": "fcf8afa3-96b0-45f4-93e5-27a86e40928f",
   "metadata": {},
   "source": [
    "# Download Data\n",
    "\n",
    "Download all data provided by the organizers.\n",
    "There are multiple data repositories, according to a nomenclature defined here https://github.com/ecmwf-lab/climetlab-s2s-ai-challenge.\n",
    "\n"
   ]
  },
  {
   "cell_type": "code",
   "execution_count": 1,
   "id": "551c12a8-28bf-43c7-b8f1-afb7758ad839",
   "metadata": {},
   "outputs": [],
   "source": [
    "import bs4\n",
    "import multiprocessing\n",
    "import os\n",
    "import pathlib\n",
    "import random\n",
    "import requests\n",
    "import urllib\n",
    "\n",
    "from tqdm.notebook import tqdm\n",
    "\n",
    "INDEX_TRAIN_INPUT = 'https://storage.ecmwf.europeanweather.cloud/s2s-ai-challenge/data/training-input/0.3.0/netcdf/index.html'\n",
    "INDEX_TRAIN_OUTPUT = 'https://storage.ecmwf.europeanweather.cloud/s2s-ai-challenge/data/training-output-benchmark/index.html'\n",
    "#INDEX_TRAIN_REFERENCE = 'https://storage.ecmwf.europeanweather.cloud/s2s-ai-challenge/data/training-output-reference/index.html'\n",
    "\n",
    "INDEX_TEST_INPUT = 'https://storage.ecmwf.europeanweather.cloud/s2s-ai-challenge/data/test-input/0.3.0/netcdf/index.html'\n",
    "INDEX_TEST_OUTPUT = 'https://storage.ecmwf.europeanweather.cloud/s2s-ai-challenge/data/test-output-benchmark/index.html'\n",
    "#INDEX_TEST_REFERENCE = 'https://storage.ecmwf.europeanweather.cloud/s2s-ai-challenge/data/test-output-reference/index.html'\n",
    "#HOME = \"C:\\\\Users\\\\klow55\\\\github\\\\crims2s\"\n",
    "#HOME = \"C:\\\\Users\\\\kahch\\\\src\\\\crims2s\\\\crims2s\"\n",
    "HOME=\"D:\\\\weatherdata\"\n",
    "TARGET_DIR = os.path.join(HOME, 's2s')\n",
    "#os.makedirs(TARGET_DIR)"
   ]
  },
  {
   "cell_type": "code",
   "execution_count": 2,
   "id": "02dd07c6-8a00-45be-b1ab-52762c48900e",
   "metadata": {},
   "outputs": [],
   "source": [
    "def read_index(index_url):\n",
    "    html = requests.get(index_url).text\n",
    "    soup = bs4.BeautifulSoup(html, 'html.parser')\n",
    "    try:\n",
    "        table = soup.find_all('tbody')[0]\n",
    "        links = table.find_all('a')\n",
    "        dataset_files = [a_tag.attrs['href'] for a_tag in links]\n",
    "    except Exception as e:\n",
    "        print(f\"{e}: {index_url}\")\n",
    "        dataset_files = []\n",
    "    return dataset_files"
   ]
  },
  {
   "cell_type": "code",
   "execution_count": 3,
   "id": "85be6db4",
   "metadata": {},
   "outputs": [
    {
     "data": {
      "text/plain": [
       "'<?xml version=\"1.0\" encoding=\"UTF-8\"?><Error><Code>AccessDenied</Code><BucketName>s2s-ai-challenge</BucketName><RequestId>tx0000000000000000726bd-0062f466b3-2a4cdd6c-default</RequestId><HostId>2a4cdd6c-default-default</HostId></Error>'"
      ]
     },
     "execution_count": 3,
     "metadata": {},
     "output_type": "execute_result"
    }
   ],
   "source": [
    "index_url=INDEX_TRAIN_REFERENCE\n",
    "html = requests.get(index_url).text\n",
    "html"
   ]
  },
  {
   "cell_type": "code",
   "execution_count": 3,
   "id": "30324369-f4e5-417c-b10a-006ac8c1adbd",
   "metadata": {},
   "outputs": [],
   "source": [
    "def download_one_dataset_file(file_url):\n",
    "    \"\"\"Inspired by https://stackoverflow.com/questions/16694907/download-large-file-in-python-with-requests.\"\"\"\n",
    "    url_path = urllib.parse.urlparse(file_url).path\n",
    "    paths = url_path.split('/')\n",
    "    download_dir = os.path.join(TARGET_DIR, paths[3])\n",
    "    download_path = os.path.join(download_dir, paths[-1])\n",
    "    os.makedirs(download_dir, exist_ok=True)\n",
    "\n",
    "    with requests.get(file_url, stream=True) as stream:\n",
    "        if os.path.isfile(download_path):\n",
    "            \"\"\"Ignore file if it already exists and file size is ok.\"\"\"\n",
    "            stream_len = int(stream.headers['Content-length'])\n",
    "            local_len = os.path.getsize(download_path)\n",
    "\n",
    "            if stream_len == local_len:               \n",
    "                return download_path\n",
    "        \n",
    "        \n",
    "        with open(download_path, 'wb') as f:\n",
    "            for chunk in stream.iter_content(chunk_size=8192):\n",
    "                f.write(chunk)\n",
    "                \n",
    "    return download_path"
   ]
  },
  {
   "cell_type": "code",
   "execution_count": 3,
   "id": "ad9cfbfd",
   "metadata": {},
   "outputs": [
    {
     "name": "stdout",
     "output_type": "stream",
     "text": [
      "3034\n"
     ]
    }
   ],
   "source": [
    "files_to_read = read_index(INDEX_TRAIN_INPUT)\n",
    "print(len(files_to_read))"
   ]
  },
  {
   "cell_type": "code",
   "execution_count": 5,
   "id": "b8df7474-52c0-4b40-9978-766bbfce2b0e",
   "metadata": {},
   "outputs": [],
   "source": [
    "dataset_files = []\n",
    "for index in [INDEX_TRAIN_OUTPUT, INDEX_TRAIN_INPUT, INDEX_TEST_INPUT, INDEX_TEST_OUTPUT]:\n",
    "#    print(index)\n",
    "    dataset_files.extend(read_index(index))"
   ]
  },
  {
   "cell_type": "code",
   "execution_count": 7,
   "id": "e98b2745",
   "metadata": {},
   "outputs": [
    {
     "data": {
      "text/plain": [
       "3046"
      ]
     },
     "execution_count": 7,
     "metadata": {},
     "output_type": "execute_result"
    }
   ],
   "source": [
    "len(dataset_files)"
   ]
  },
  {
   "cell_type": "code",
   "execution_count": 15,
   "id": "bdf26f63",
   "metadata": {},
   "outputs": [
    {
     "data": {
      "text/plain": [
       "'https://storage.ecmwf.europeanweather.cloud/s2s-ai-challenge/data/training-output-benchmark/t2m-weeks-34.nc'"
      ]
     },
     "execution_count": 15,
     "metadata": {},
     "output_type": "execute_result"
    }
   ],
   "source": [
    "dataset_files[0]"
   ]
  },
  {
   "cell_type": "code",
   "execution_count": 20,
   "id": "f9e77d8e",
   "metadata": {},
   "outputs": [
    {
     "data": {
      "text/plain": [
       "'training-output-benchmark/t2m-weeks-34.nc'"
      ]
     },
     "execution_count": 20,
     "metadata": {},
     "output_type": "execute_result"
    }
   ],
   "source": [
    "urllib.parse.urlparse(dataset_files[0]).path[23:]"
   ]
  },
  {
   "cell_type": "code",
   "execution_count": 34,
   "id": "65fa02d3-8f0a-4026-8e5c-b0250b4dba11",
   "metadata": {},
   "outputs": [
    {
     "data": {
      "text/plain": [
       "'E:\\\\weatherdata\\\\s2s\\\\training-output-benchmark\\\\t2m-weeks-34.nc'"
      ]
     },
     "execution_count": 34,
     "metadata": {},
     "output_type": "execute_result"
    }
   ],
   "source": [
    "download_one_dataset_file(dataset_files[0])"
   ]
  },
  {
   "cell_type": "code",
   "execution_count": 6,
   "id": "a5632031",
   "metadata": {},
   "outputs": [],
   "source": [
    "with open(\"D:\\\\weatherdata\\\\s2sdatafiles.txt\", \"wt\") as fout:\n",
    "    for f in dataset_files:\n",
    "        fout.write(f+'\\n')"
   ]
  },
  {
   "cell_type": "markdown",
   "id": "12af71bc-c549-4ce0-9247-7d6542248f2d",
   "metadata": {},
   "source": [
    "## Test local file"
   ]
  },
  {
   "cell_type": "code",
   "execution_count": null,
   "id": "5b9059e1-6d82-4f98-8458-71fb21c0d6b3",
   "metadata": {},
   "outputs": [],
   "source": [
    "import xarray as xr"
   ]
  },
  {
   "cell_type": "code",
   "execution_count": null,
   "id": "257e88b6-11d4-419b-b48b-82080f846dda",
   "metadata": {},
   "outputs": [],
   "source": [
    "d = xr.open_dataset(local_file)"
   ]
  },
  {
   "cell_type": "code",
   "execution_count": null,
   "id": "11f15ba6-c503-4b13-a090-9c8aca6c6e18",
   "metadata": {},
   "outputs": [],
   "source": [
    "d"
   ]
  },
  {
   "cell_type": "code",
   "execution_count": null,
   "id": "1290bb0a-250f-4822-a780-d79174d7d9d6",
   "metadata": {},
   "outputs": [],
   "source": [
    "d.lead_time"
   ]
  },
  {
   "cell_type": "code",
   "execution_count": null,
   "id": "8ad60401-eb58-4056-a224-2d1621fcd31d",
   "metadata": {},
   "outputs": [],
   "source": [
    "d.t2m.isel(lead_time=0, forecast_time=2, category=0).plot()"
   ]
  },
  {
   "cell_type": "markdown",
   "id": "115be162-8634-41a7-a751-4b9257097323",
   "metadata": {},
   "source": [
    "## Batch Download"
   ]
  },
  {
   "cell_type": "code",
   "execution_count": null,
   "id": "9b1161fa-d0b0-47f4-9006-d9da0c187e89",
   "metadata": {
    "tags": []
   },
   "outputs": [
    {
     "data": {
      "application/vnd.jupyter.widget-view+json": {
       "model_id": "c5d9c41a9bd94383a07d35d8da6ac993",
       "version_major": 2,
       "version_minor": 0
      },
      "text/plain": [
       "  0%|          | 0/6123 [00:00<?, ?it/s]"
      ]
     },
     "metadata": {},
     "output_type": "display_data"
    }
   ],
   "source": [
    "random.shuffle(dataset_files)\n",
    "\n",
    "with multiprocessing.Pool(processes=16) as pool:\n",
    "    for _ in tqdm(pool.imap(download_one_dataset_file, dataset_files), total=len(dataset_files)):\n",
    "        pass"
   ]
  },
  {
   "cell_type": "code",
   "execution_count": null,
   "id": "a1e1572b-5e26-4425-bd4b-96b0f79519f1",
   "metadata": {},
   "outputs": [
    {
     "name": "stdout",
     "output_type": "stream",
     "text": [
      "0:D:\\weatherdata\\s2s\\training-output-benchmark\\t2m-weeks-34.nc\n",
      "4:D:\\weatherdata\\s2s\\training-output-benchmark\\tp-weeks-56.nc\n",
      "8:D:\\weatherdata\\s2s\\training-input\\eccc-hindcast-ci-20200116.nc\n",
      "12:D:\\weatherdata\\s2s\\training-input\\eccc-hindcast-ci-20200213.nc\n",
      "16:D:\\weatherdata\\s2s\\training-input\\eccc-hindcast-ci-20200312.nc\n",
      "20:D:\\weatherdata\\s2s\\training-input\\eccc-hindcast-ci-20200409.nc\n",
      "24:D:\\weatherdata\\s2s\\training-input\\eccc-hindcast-ci-20200507.nc\n",
      "28:D:\\weatherdata\\s2s\\training-input\\eccc-hindcast-ci-20200604.nc\n",
      "32:D:\\weatherdata\\s2s\\training-input\\eccc-hindcast-ci-20200702.nc\n",
      "36:D:\\weatherdata\\s2s\\training-input\\eccc-hindcast-ci-20200730.nc\n",
      "40:D:\\weatherdata\\s2s\\training-input\\eccc-hindcast-ci-20200827.nc\n",
      "44:D:\\weatherdata\\s2s\\training-input\\eccc-hindcast-ci-20200924.nc\n",
      "48:D:\\weatherdata\\s2s\\training-input\\eccc-hindcast-ci-20201022.nc\n",
      "52:D:\\weatherdata\\s2s\\training-input\\eccc-hindcast-ci-20201119.nc\n",
      "56:D:\\weatherdata\\s2s\\training-input\\eccc-hindcast-ci-20201217.nc\n",
      "60:D:\\weatherdata\\s2s\\training-input\\eccc-hindcast-gh-20200109.nc\n",
      "64:D:\\weatherdata\\s2s\\training-input\\eccc-hindcast-gh-20200206.nc\n",
      "68:D:\\weatherdata\\s2s\\training-input\\eccc-hindcast-gh-20200305.nc\n",
      "72:D:\\weatherdata\\s2s\\training-input\\eccc-hindcast-gh-20200402.nc\n",
      "76:D:\\weatherdata\\s2s\\training-input\\eccc-hindcast-gh-20200430.nc\n",
      "80:D:\\weatherdata\\s2s\\training-input\\eccc-hindcast-gh-20200528.nc\n",
      "84:D:\\weatherdata\\s2s\\training-input\\eccc-hindcast-gh-20200625.nc\n",
      "88:D:\\weatherdata\\s2s\\training-input\\eccc-hindcast-gh-20200723.nc\n",
      "92:D:\\weatherdata\\s2s\\training-input\\eccc-hindcast-gh-20200820.nc\n",
      "96:D:\\weatherdata\\s2s\\training-input\\eccc-hindcast-gh-20200917.nc\n",
      "100:D:\\weatherdata\\s2s\\training-input\\eccc-hindcast-gh-20201015.nc\n",
      "104:D:\\weatherdata\\s2s\\training-input\\eccc-hindcast-gh-20201112.nc\n",
      "108:D:\\weatherdata\\s2s\\training-input\\eccc-hindcast-gh-20201210.nc\n",
      "112:D:\\weatherdata\\s2s\\training-input\\eccc-hindcast-lsm-20200102.nc\n",
      "116:D:\\weatherdata\\s2s\\training-input\\eccc-hindcast-lsm-20200130.nc\n",
      "120:D:\\weatherdata\\s2s\\training-input\\eccc-hindcast-lsm-20200227.nc\n",
      "124:D:\\weatherdata\\s2s\\training-input\\eccc-hindcast-lsm-20200326.nc\n",
      "128:D:\\weatherdata\\s2s\\training-input\\eccc-hindcast-lsm-20200423.nc\n",
      "132:D:\\weatherdata\\s2s\\training-input\\eccc-hindcast-lsm-20200521.nc\n",
      "136:D:\\weatherdata\\s2s\\training-input\\eccc-hindcast-lsm-20200618.nc\n",
      "140:D:\\weatherdata\\s2s\\training-input\\eccc-hindcast-lsm-20200716.nc\n",
      "144:D:\\weatherdata\\s2s\\training-input\\eccc-hindcast-lsm-20200813.nc\n",
      "148:D:\\weatherdata\\s2s\\training-input\\eccc-hindcast-lsm-20200910.nc\n",
      "152:D:\\weatherdata\\s2s\\training-input\\eccc-hindcast-lsm-20201008.nc\n",
      "156:D:\\weatherdata\\s2s\\training-input\\eccc-hindcast-lsm-20201105.nc\n",
      "160:D:\\weatherdata\\s2s\\training-input\\eccc-hindcast-lsm-20201203.nc\n",
      "164:D:\\weatherdata\\s2s\\training-input\\eccc-hindcast-lsm-20201231.nc\n",
      "168:D:\\weatherdata\\s2s\\training-input\\eccc-hindcast-msl-20200123.nc\n",
      "172:D:\\weatherdata\\s2s\\training-input\\eccc-hindcast-msl-20200220.nc\n",
      "176:D:\\weatherdata\\s2s\\training-input\\eccc-hindcast-msl-20200319.nc\n",
      "180:D:\\weatherdata\\s2s\\training-input\\eccc-hindcast-msl-20200416.nc\n",
      "184:D:\\weatherdata\\s2s\\training-input\\eccc-hindcast-msl-20200514.nc\n",
      "188:D:\\weatherdata\\s2s\\training-input\\eccc-hindcast-msl-20200611.nc\n",
      "192:D:\\weatherdata\\s2s\\training-input\\eccc-hindcast-msl-20200709.nc\n",
      "196:D:\\weatherdata\\s2s\\training-input\\eccc-hindcast-msl-20200806.nc\n",
      "200:D:\\weatherdata\\s2s\\training-input\\eccc-hindcast-msl-20200903.nc\n",
      "204:D:\\weatherdata\\s2s\\training-input\\eccc-hindcast-msl-20201001.nc\n",
      "208:D:\\weatherdata\\s2s\\training-input\\eccc-hindcast-msl-20201029.nc\n",
      "212:D:\\weatherdata\\s2s\\training-input\\eccc-hindcast-msl-20201126.nc\n",
      "216:D:\\weatherdata\\s2s\\training-input\\eccc-hindcast-msl-20201224.nc\n",
      "220:D:\\weatherdata\\s2s\\training-input\\eccc-hindcast-q-20200116.nc\n",
      "224:D:\\weatherdata\\s2s\\training-input\\eccc-hindcast-q-20200213.nc\n",
      "228:D:\\weatherdata\\s2s\\training-input\\eccc-hindcast-q-20200312.nc\n",
      "232:D:\\weatherdata\\s2s\\training-input\\eccc-hindcast-q-20200409.nc\n",
      "236:D:\\weatherdata\\s2s\\training-input\\eccc-hindcast-q-20200507.nc\n",
      "240:D:\\weatherdata\\s2s\\training-input\\eccc-hindcast-q-20200604.nc\n",
      "244:D:\\weatherdata\\s2s\\training-input\\eccc-hindcast-q-20200702.nc\n",
      "248:D:\\weatherdata\\s2s\\training-input\\eccc-hindcast-q-20200730.nc\n",
      "252:D:\\weatherdata\\s2s\\training-input\\eccc-hindcast-q-20200827.nc\n",
      "256:D:\\weatherdata\\s2s\\training-input\\eccc-hindcast-q-20200924.nc\n",
      "260:D:\\weatherdata\\s2s\\training-input\\eccc-hindcast-q-20201022.nc\n",
      "264:D:\\weatherdata\\s2s\\training-input\\eccc-hindcast-q-20201119.nc\n",
      "268:D:\\weatherdata\\s2s\\training-input\\eccc-hindcast-q-20201217.nc\n",
      "272:D:\\weatherdata\\s2s\\training-input\\eccc-hindcast-rsn-20200109.nc\n",
      "276:D:\\weatherdata\\s2s\\training-input\\eccc-hindcast-rsn-20200206.nc\n",
      "280:D:\\weatherdata\\s2s\\training-input\\eccc-hindcast-rsn-20200305.nc\n",
      "284:D:\\weatherdata\\s2s\\training-input\\eccc-hindcast-rsn-20200402.nc\n",
      "288:D:\\weatherdata\\s2s\\training-input\\eccc-hindcast-rsn-20200430.nc\n",
      "292:D:\\weatherdata\\s2s\\training-input\\eccc-hindcast-rsn-20200528.nc\n",
      "296:D:\\weatherdata\\s2s\\training-input\\eccc-hindcast-rsn-20200625.nc\n",
      "300:D:\\weatherdata\\s2s\\training-input\\eccc-hindcast-rsn-20200723.nc\n",
      "304:D:\\weatherdata\\s2s\\training-input\\eccc-hindcast-rsn-20200820.nc\n",
      "308:D:\\weatherdata\\s2s\\training-input\\eccc-hindcast-rsn-20200917.nc\n",
      "312:D:\\weatherdata\\s2s\\training-input\\eccc-hindcast-rsn-20201015.nc\n",
      "316:D:\\weatherdata\\s2s\\training-input\\eccc-hindcast-rsn-20201112.nc\n",
      "320:D:\\weatherdata\\s2s\\training-input\\eccc-hindcast-rsn-20201210.nc\n",
      "324:D:\\weatherdata\\s2s\\training-input\\eccc-hindcast-siconc-20200102.nc\n",
      "328:D:\\weatherdata\\s2s\\training-input\\eccc-hindcast-siconc-20200130.nc\n",
      "332:D:\\weatherdata\\s2s\\training-input\\eccc-hindcast-siconc-20200227.nc\n",
      "336:D:\\weatherdata\\s2s\\training-input\\eccc-hindcast-siconc-20200326.nc\n",
      "340:D:\\weatherdata\\s2s\\training-input\\eccc-hindcast-siconc-20200423.nc\n",
      "344:D:\\weatherdata\\s2s\\training-input\\eccc-hindcast-siconc-20200521.nc\n",
      "348:D:\\weatherdata\\s2s\\training-input\\eccc-hindcast-siconc-20200618.nc\n",
      "352:D:\\weatherdata\\s2s\\training-input\\eccc-hindcast-siconc-20200716.nc\n",
      "356:D:\\weatherdata\\s2s\\training-input\\eccc-hindcast-siconc-20200813.nc\n",
      "360:D:\\weatherdata\\s2s\\training-input\\eccc-hindcast-siconc-20200910.nc\n",
      "364:D:\\weatherdata\\s2s\\training-input\\eccc-hindcast-siconc-20201008.nc\n",
      "368:D:\\weatherdata\\s2s\\training-input\\eccc-hindcast-siconc-20201105.nc\n",
      "372:D:\\weatherdata\\s2s\\training-input\\eccc-hindcast-siconc-20201203.nc\n",
      "376:D:\\weatherdata\\s2s\\training-input\\eccc-hindcast-siconc-20201231.nc\n",
      "380:D:\\weatherdata\\s2s\\training-input\\eccc-hindcast-sp-20200123.nc\n",
      "384:D:\\weatherdata\\s2s\\training-input\\eccc-hindcast-sp-20200220.nc\n",
      "388:D:\\weatherdata\\s2s\\training-input\\eccc-hindcast-sp-20200319.nc\n",
      "392:D:\\weatherdata\\s2s\\training-input\\eccc-hindcast-sp-20200416.nc\n",
      "396:D:\\weatherdata\\s2s\\training-input\\eccc-hindcast-sp-20200514.nc\n",
      "400:D:\\weatherdata\\s2s\\training-input\\eccc-hindcast-sp-20200611.nc\n",
      "404:D:\\weatherdata\\s2s\\training-input\\eccc-hindcast-sp-20200709.nc\n",
      "408:D:\\weatherdata\\s2s\\training-input\\eccc-hindcast-sp-20200806.nc\n",
      "412:D:\\weatherdata\\s2s\\training-input\\eccc-hindcast-sp-20200903.nc\n",
      "416:D:\\weatherdata\\s2s\\training-input\\eccc-hindcast-sp-20201001.nc\n",
      "420:D:\\weatherdata\\s2s\\training-input\\eccc-hindcast-sp-20201029.nc\n",
      "424:D:\\weatherdata\\s2s\\training-input\\eccc-hindcast-sp-20201126.nc\n",
      "428:D:\\weatherdata\\s2s\\training-input\\eccc-hindcast-sp-20201224.nc\n",
      "432:D:\\weatherdata\\s2s\\training-input\\eccc-hindcast-sst-20200116.nc\n",
      "436:D:\\weatherdata\\s2s\\training-input\\eccc-hindcast-sst-20200213.nc\n",
      "440:D:\\weatherdata\\s2s\\training-input\\eccc-hindcast-sst-20200312.nc\n",
      "444:D:\\weatherdata\\s2s\\training-input\\eccc-hindcast-sst-20200409.nc\n",
      "448:D:\\weatherdata\\s2s\\training-input\\eccc-hindcast-sst-20200507.nc\n",
      "452:D:\\weatherdata\\s2s\\training-input\\eccc-hindcast-sst-20200604.nc\n",
      "456:D:\\weatherdata\\s2s\\training-input\\eccc-hindcast-sst-20200702.nc\n",
      "460:D:\\weatherdata\\s2s\\training-input\\eccc-hindcast-sst-20200730.nc\n",
      "464:D:\\weatherdata\\s2s\\training-input\\eccc-hindcast-sst-20200827.nc\n",
      "468:D:\\weatherdata\\s2s\\training-input\\eccc-hindcast-sst-20200924.nc\n",
      "472:D:\\weatherdata\\s2s\\training-input\\eccc-hindcast-sst-20201022.nc\n",
      "476:D:\\weatherdata\\s2s\\training-input\\eccc-hindcast-sst-20201119.nc\n",
      "480:D:\\weatherdata\\s2s\\training-input\\eccc-hindcast-sst-20201217.nc\n",
      "484:D:\\weatherdata\\s2s\\training-input\\eccc-hindcast-t-20200109.nc\n"
     ]
    },
    {
     "name": "stdout",
     "output_type": "stream",
     "text": [
      "488:D:\\weatherdata\\s2s\\training-input\\eccc-hindcast-t-20200206.nc\n",
      "492:D:\\weatherdata\\s2s\\training-input\\eccc-hindcast-t-20200305.nc\n",
      "496:D:\\weatherdata\\s2s\\training-input\\eccc-hindcast-t-20200402.nc\n",
      "500:D:\\weatherdata\\s2s\\training-input\\eccc-hindcast-t-20200430.nc\n",
      "504:D:\\weatherdata\\s2s\\training-input\\eccc-hindcast-t-20200528.nc\n",
      "508:D:\\weatherdata\\s2s\\training-input\\eccc-hindcast-t-20200625.nc\n",
      "512:D:\\weatherdata\\s2s\\training-input\\eccc-hindcast-t-20200723.nc\n",
      "516:D:\\weatherdata\\s2s\\training-input\\eccc-hindcast-t-20200820.nc\n",
      "520:D:\\weatherdata\\s2s\\training-input\\eccc-hindcast-t-20200917.nc\n",
      "524:D:\\weatherdata\\s2s\\training-input\\eccc-hindcast-t-20201015.nc\n",
      "528:D:\\weatherdata\\s2s\\training-input\\eccc-hindcast-t-20201112.nc\n"
     ]
    }
   ],
   "source": [
    "with open(\"D:\\\\weatherdata\\\\s2sdatafiles.txt\") as fin:\n",
    "    for i, line in enumerate(fin):\n",
    "        if i % 4 != 0:\n",
    "            continue\n",
    "        downloaded = download_one_dataset_file(line.strip())\n",
    "        print(f\"{i}:{downloaded}\")"
   ]
  },
  {
   "cell_type": "code",
   "execution_count": null,
   "id": "c4187826-8dce-4910-8b1d-a639ee79d1c1",
   "metadata": {},
   "outputs": [],
   "source": []
  }
 ],
 "metadata": {
  "kernelspec": {
   "display_name": "Python 3 (ipykernel)",
   "language": "python",
   "name": "python3"
  },
  "language_info": {
   "codemirror_mode": {
    "name": "ipython",
    "version": 3
   },
   "file_extension": ".py",
   "mimetype": "text/x-python",
   "name": "python",
   "nbconvert_exporter": "python",
   "pygments_lexer": "ipython3",
   "version": "3.9.12"
  }
 },
 "nbformat": 4,
 "nbformat_minor": 5
}
