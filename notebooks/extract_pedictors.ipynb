{
 "cells": [
  {
   "cell_type": "code",
   "execution_count": 1,
   "id": "818af9e8",
   "metadata": {},
   "outputs": [],
   "source": [
    "import xarray as xr\n",
    "import os\n",
    "import numpy as np\n",
    "import pandas as pd"
   ]
  },
  {
   "cell_type": "code",
   "execution_count": 3,
   "id": "3fb3f7eb",
   "metadata": {},
   "outputs": [],
   "source": [
    "res = 2.8125\n",
    "local_dir = f\"E:\\\\weatherbench\\\\{res}deg\""
   ]
  },
  {
   "cell_type": "code",
   "execution_count": null,
   "id": "4196833f",
   "metadata": {},
   "outputs": [],
   "source": [
    "def get_daily_predictor_reading_for_year(predictor, lat, lon, year):\n",
    "    d = xr.open_dataset(os.path.join(local_dir, predictor, f\"{predictor}_{res}deg\", f\"{predictor}_{year}_{res}deg.nc\"))\n",
    "    one_slice = dict(lat=slice(lat, lat+1), lon=slice(lon, lon+1))\n",
    "    data = d.loc[one_slice].to_dataframe()\n",
    "    temps = data.query(f\"lon=={lon} and lat=={lat}\")['t2m']\n",
    "    # hourly temperature: each day covers 24 entries. Take the daily average over 24hrs\n",
    "    one_year_daily=np.array([np.mean(temps[i:i+24]) for i in range(0, len(temps), 24)])\n",
    "    return one_year_daily[:365].reshape((1, 365))"
   ]
  },
  {
   "cell_type": "code",
   "execution_count": 2,
   "id": "4579bda9",
   "metadata": {},
   "outputs": [
    {
     "data": {
      "text/plain": [
       "'aaa\\\\bbb\\\\ccc'"
      ]
     },
     "execution_count": 2,
     "metadata": {},
     "output_type": "execute_result"
    }
   ],
   "source": [
    "os.path.join(\"aaa\", \"bbb\", \"ccc\")"
   ]
  },
  {
   "cell_type": "code",
   "execution_count": null,
   "id": "ad1e4ded",
   "metadata": {},
   "outputs": [],
   "source": []
  }
 ],
 "metadata": {
  "kernelspec": {
   "display_name": "Python 3 (ipykernel)",
   "language": "python",
   "name": "python3"
  },
  "language_info": {
   "codemirror_mode": {
    "name": "ipython",
    "version": 3
   },
   "file_extension": ".py",
   "mimetype": "text/x-python",
   "name": "python",
   "nbconvert_exporter": "python",
   "pygments_lexer": "ipython3",
   "version": "3.9.12"
  }
 },
 "nbformat": 4,
 "nbformat_minor": 5
}
