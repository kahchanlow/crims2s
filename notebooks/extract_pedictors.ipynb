{
 "cells": [
  {
   "cell_type": "code",
   "execution_count": 2,
   "id": "818af9e8",
   "metadata": {},
   "outputs": [],
   "source": [
    "import xarray as xr\n",
    "import os\n",
    "import numpy as np\n",
    "import pandas as pd"
   ]
  },
  {
   "cell_type": "code",
   "execution_count": 3,
   "id": "3fb3f7eb",
   "metadata": {},
   "outputs": [],
   "source": [
    "res = 2.8125\n",
    "local_dir = f\"E:\\\\weatherbench\\\\{res}deg\""
   ]
  },
  {
   "cell_type": "code",
   "execution_count": null,
   "id": "4196833f",
   "metadata": {},
   "outputs": [],
   "source": [
    "def get_daily_predictor_reading_for_year(predictor, lat, lon, year):\n",
    "    d = xr.open_dataset(os.path.join(local_dir, predictor, f\"{predictor}_{res}deg\", f\"{predictor}_{year}_{res}deg.nc\"))\n",
    "    one_slice = dict(lat=slice(lat, lat+1), lon=slice(lon, lon+1))\n",
    "    data = d.loc[one_slice].to_dataframe()\n",
    "    temps = data.query(f\"lon=={lon} and lat=={lat}\")['t2m']\n",
    "    # hourly temperature: each day covers 24 entries. Take the daily average over 24hrs\n",
    "    one_year_daily=np.array([np.mean(temps[i:i+24]) for i in range(0, len(temps), 24)])\n",
    "    return one_year_daily[:365].reshape((1, 365))"
   ]
  },
  {
   "cell_type": "code",
   "execution_count": 5,
   "id": "4579bda9",
   "metadata": {},
   "outputs": [],
   "source": [
    "d=xr.open_dataset(\"E:\\\\weatherbench\\\\2.8125deg\\\\toa_incident_solar_radiation\\\\toa_incident_solar_radiation_2.8125deg\\\\toa_incident_solar_radiation_1979_2.8125deg.nc\")"
   ]
  },
  {
   "cell_type": "code",
   "execution_count": 49,
   "id": "ad1e4ded",
   "metadata": {},
   "outputs": [],
   "source": [
    "x=d.coords"
   ]
  },
  {
   "cell_type": "code",
   "execution_count": 53,
   "id": "c6c2aefe",
   "metadata": {},
   "outputs": [],
   "source": [
    "lats = [lt.item() for lt in d['lat']]"
   ]
  },
  {
   "cell_type": "code",
   "execution_count": null,
   "id": "f9e75b3c",
   "metadata": {},
   "outputs": [],
   "source": [
    "def detrend(lat, lon, years, nombor):\n",
    "    \"\"\"\n",
    "    Extract the mean feature value for each day in a year over the period between y1 and y2 inclusive.\n",
    "    \"\"\"\n",
    "    y1, y2 = years\n",
    "    data = None\n",
    "    for y in range(y1, y2+1):\n",
    "        more_data = get_daily_temp_for_year(lat, lon, y)\n",
    "        if data is None:\n",
    "            data = more_data\n",
    "        else:\n",
    "            data = np.concatenate((data, more_data), axis=0)\n",
    "    np.savetxt(f\"daily_averages{nombor}.txt\", data, delimiter=',')\n",
    "    # means is an array where mean[0] is the feature value average over the years between y1 and y2 on the \n",
    "    # on the first day of a year\n",
    "    means = np.array([np.array([data[i, j] for i in range(40)]).mean() for j in range(365)])\n",
    "    detrended = data - means\n",
    "    np.savetxt(f\"detrended{nombor}.txt\", linearize(detrended), delimiter=',')"
   ]
  }
 ],
 "metadata": {
  "kernelspec": {
   "display_name": "Python 3 (ipykernel)",
   "language": "python",
   "name": "python3"
  },
  "language_info": {
   "codemirror_mode": {
    "name": "ipython",
    "version": 3
   },
   "file_extension": ".py",
   "mimetype": "text/x-python",
   "name": "python",
   "nbconvert_exporter": "python",
   "pygments_lexer": "ipython3",
   "version": "3.9.12"
  }
 },
 "nbformat": 4,
 "nbformat_minor": 5
}
