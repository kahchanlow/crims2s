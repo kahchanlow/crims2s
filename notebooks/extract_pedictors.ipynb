{
 "cells": [
  {
   "cell_type": "code",
   "execution_count": 79,
   "id": "818af9e8",
   "metadata": {},
   "outputs": [],
   "source": [
    "import xarray as xr\n",
    "import os\n",
    "import numpy as np\n",
    "import pandas as pd"
   ]
  },
  {
   "cell_type": "code",
   "execution_count": 63,
   "id": "3fb3f7eb",
   "metadata": {},
   "outputs": [],
   "source": [
    "res = 2.8125\n",
    "local_dir = f\"E:\\\\weatherbench\\\\{res}deg\""
   ]
  },
  {
   "cell_type": "code",
   "execution_count": 69,
   "id": "4579bda9",
   "metadata": {},
   "outputs": [],
   "source": [
    "d=xr.open_dataset(\"E:\\\\weatherbench\\\\2.8125deg\\\\toa_incident_solar_radiation\\\\toa_incident_solar_radiation_2.8125deg\\\\toa_incident_solar_radiation_1979_2.8125deg.nc\")"
   ]
  },
  {
   "cell_type": "code",
   "execution_count": 94,
   "id": "df9f9851",
   "metadata": {},
   "outputs": [],
   "source": [
    "lon = 0.0\n",
    "lat = \n",
    "#data = d.query(f\"lon=={lon} and lat=={lat}\")\n",
    "data = d.sel(lon=lon, lat=lat).to_dataframe()['tisr']\n",
    "one_year_daily=np.array([data[i:i+24].mean(axis=0) for i in range(0, len(data), 24)])"
   ]
  },
  {
   "cell_type": "code",
   "execution_count": 53,
   "id": "c6c2aefe",
   "metadata": {},
   "outputs": [],
   "source": []
  },
  {
   "cell_type": "code",
   "execution_count": 101,
   "id": "af5f04f3",
   "metadata": {},
   "outputs": [],
   "source": [
    "def get_all_4_corners():\n",
    "    d = xr.open_dataset(\"E:\\\\weatherbench\\\\2.8125deg\\\\2m_temperature\\\\2m_temperature_2.8125deg\\\\2m_temperature_1979_2.8125deg.nc\")\n",
    "    lats = [lt.item() for lt in d['lat']]\n",
    "    lons = [ln.item() for ln in d['lon']]\n",
    "    output = []\n",
    "    for i, lat in enumerate(lats):\n",
    "        for j, lon in enumerate(lons):\n",
    "            if i == len(lats)-1:\n",
    "                continue\n",
    "            if j == len(lons)-1:\n",
    "                continue\n",
    "            output.append([(lat, lon), (lat, lon[i+1]), (lat[i+1], lon), (lat[i+1], lon[i+1])])\n",
    "    return output"
   ]
  },
  {
   "cell_type": "code",
   "execution_count": 99,
   "id": "f9e75b3c",
   "metadata": {},
   "outputs": [],
   "source": [
    "def get_all_4_corners():\n",
    "    d = xr.open_dataset(\"E:\\\\weatherbench\\\\2.8125deg\\\\2m_temperature\\\\2m_temperature_2.8125deg\\\\2m_temperature_1979_2.8125deg.nc\")\n",
    "    lats = [lt.item() for lt in d['lat']]\n",
    "    lons = [ln.item() for ln in d['lon']]\n",
    "    output = []\n",
    "    for i, lat in enumerate(lats):\n",
    "        for j, lon in enumerate(lons):\n",
    "            if i == len(lats)-1:\n",
    "                continue\n",
    "            if j == len(lons)-1:\n",
    "                continue\n",
    "            output.append([(lat, lon), (lat, lon[i+1]), (lat[i+1], lon), (lat[i+1], lon[i+1])])\n",
    "    return output\n",
    "\n",
    "\n",
    "def get_daily_value_for_year(feature_info, lat, lon, year):\n",
    "    feature, df_fld = feature_info\n",
    "    d = xr.open_dataset(os.path.join(local_dir, feature, f\"{feature}_{res}deg\", f\"{feature}_{year}_{res}deg.nc\"))\n",
    "    data = d.sel(lon=lon, lat=lat).to_dataframe()[df_fld]\n",
    "    # hourly temperature: each day covers 24 entries. Take the daily average over 24hrs\n",
    "    one_year_daily=np.array([np.mean(data[i:i+24]) for i in range(0, len(data), 24)])\n",
    "    return one_year_daily[:365].reshape((1, 365))\n",
    "\n",
    "\n",
    "def linearize(x):\n",
    "    linearized = np.array([])\n",
    "    for chunk in x:\n",
    "        linearized = np.concatenate((linearized, chunk), axis=0)\n",
    "    return linearized\n",
    "\n",
    "\n",
    "def detrend(feature, lat, lon, years, nombor):\n",
    "    \"\"\"\n",
    "    Extract the mean feature value for each day in a year over the period between y1 and y2 inclusive and use\n",
    "    it to do seasonal detrending.\n",
    "    \"\"\"\n",
    "    y1, y2 = years\n",
    "    data = None\n",
    "    for y in range(y1, y2+1):\n",
    "        more_data = get_daily_value_for_year(feature, lat, lon, y)\n",
    "        if data is None:\n",
    "            data = more_data\n",
    "        else:\n",
    "            data = np.concatenate((data, more_data), axis=0)\n",
    "#    np.savetxt(f\"daily_averages{nombor}.txt\", data, delimiter=',')\n",
    "    # means is an array where mean[0] is the feature value average over the years between y1 and y2 on the \n",
    "    # on the first day of a year\n",
    "    means = np.array([np.array([data[i, j] for i in range(y2-y1+1)]).mean() for j in range(365)])\n",
    "    detrended = data - means\n",
    "    return detrended"
   ]
  },
  {
   "cell_type": "code",
   "execution_count": 100,
   "id": "db4925cd",
   "metadata": {},
   "outputs": [
    {
     "data": {
      "text/plain": [
       "array([[1460948.125, 1461980.375, 1463067.125, 1464228.   , 1465472.625,\n",
       "        1466774.625, 1468144.5  , 1469581.875, 1471103.   , 1472639.875,\n",
       "        1474247.875, 1475913.375, 1477630.5  , 1479399.125, 1481232.125,\n",
       "        1483093.625, 1485007.   , 1486955.625, 1488949.375, 1490981.5  ,\n",
       "        1493017.   , 1495071.875, 1497184.375, 1499326.   , 1501474.   ,\n",
       "        1503605.875, 1505792.125, 1507963.   , 1510155.875, 1512381.   ,\n",
       "        1514603.   , 1516789.625, 1518998.625, 1521188.5  , 1523362.375,\n",
       "        1525510.375, 1527651.625, 1529783.625, 1531896.375, 1533980.125,\n",
       "        1536009.   , 1538031.625, 1540025.   , 1541977.375, 1543877.375,\n",
       "        1545732.875, 1547572.125, 1549366.5  , 1551122.375, 1552800.625,\n",
       "        1554440.5  , 1556003.375, 1557527.625, 1558993.875, 1560399.   ,\n",
       "        1561759.125, 1563020.   , 1564248.125, 1565405.875, 1566479.5  ,\n",
       "        1567473.125, 1568399.5  , 1569286.625, 1570071.375, 1570798.125,\n",
       "        1571434.875, 1572007.375, 1572508.875, 1572920.625, 1573287.125,\n",
       "        1573531.625, 1573701.875, 1573824.125, 1573840.   , 1573782.125,\n",
       "        1573647.125, 1573435.   , 1573149.   , 1572785.375, 1572335.375,\n",
       "        1571807.875, 1571200.125, 1570528.125, 1569775.625, 1568936.5  ,\n",
       "        1568035.875, 1567039.375, 1566010.5  , 1564884.875, 1563659.625,\n",
       "        1562392.625, 1561051.875, 1559643.5  , 1558177.   , 1556656.   ,\n",
       "        1555035.625, 1553405.125, 1551675.   , 1549884.375, 1548061.   ,\n",
       "        1546144.5  , 1544221.5  , 1542228.   , 1540176.5  , 1538070.375,\n",
       "        1535938.375, 1533738.875, 1531520.125, 1529266.   , 1526980.   ,\n",
       "        1524632.375, 1522262.375, 1519889.375, 1517458.375, 1514992.   ,\n",
       "        1512535.625, 1510027.125, 1507503.125, 1504985.375, 1502461.   ,\n",
       "        1499904.5  , 1497348.125, 1494776.   , 1492197.125, 1489605.375,\n",
       "        1487019.875, 1484444.375, 1481891.375, 1479341.125, 1476801.   ,\n",
       "        1474267.   , 1471755.625, 1469270.   , 1466810.125, 1464347.   ,\n",
       "        1461932.   , 1459526.875, 1457160.125, 1454829.   , 1452542.625,\n",
       "        1450266.   , 1448053.875, 1445905.875, 1443777.   , 1441699.625,\n",
       "        1439667.625, 1437683.875, 1435751.125, 1433886.   , 1432056.375,\n",
       "        1430291.125, 1428570.875, 1426921.125, 1425365.   , 1423847.   ,\n",
       "        1422393.875, 1421007.625, 1419695.625, 1418461.   , 1417281.   ,\n",
       "        1416171.5  , 1415152.125, 1414200.125, 1413338.875, 1412534.625,\n",
       "        1411814.5  , 1411164.875, 1410608.625, 1410100.5  , 1409695.5  ,\n",
       "        1409354.625, 1409110.125, 1408914.   , 1408824.   , 1408791.875,\n",
       "        1408859.375, 1408994.375, 1409200.375, 1409512.125, 1409862.5  ,\n",
       "        1410328.875, 1410833.625, 1411451.   , 1412113.5  , 1412856.375,\n",
       "        1413669.875, 1414560.5  , 1415525.375, 1416544.5  , 1417637.875,\n",
       "        1418805.   , 1420039.875, 1421339.   , 1422679.875, 1424104.375,\n",
       "        1425554.5  , 1427078.625, 1428654.375, 1430278.125, 1431972.875,\n",
       "        1433689.875, 1435458.375, 1437291.375, 1439137.125, 1441063.125,\n",
       "        1443011.875, 1444995.875, 1447024.875, 1449082.625, 1451163.125,\n",
       "        1453269.5  , 1455417.375, 1457555.625, 1459758.5  , 1461977.125,\n",
       "        1464189.5  , 1466421.   , 1468652.625, 1470916.5  , 1473209.   ,\n",
       "        1475505.125, 1477775.125, 1480035.875, 1482309.375, 1484572.875,\n",
       "        1486817.5  , 1489068.125, 1491322.5  , 1493557.125, 1495776.   ,\n",
       "        1497988.375, 1500162.   , 1502303.5  , 1504454.875, 1506567.375,\n",
       "        1508638.125, 1510702.625, 1512702.625, 1514699.375, 1516664.5  ,\n",
       "        1518574.125, 1520465.   , 1522298.   , 1524079.5  , 1525822.   ,\n",
       "        1527545.625, 1529195.125, 1530800.   , 1532343.375, 1533857.875,\n",
       "        1535308.375, 1536697.125, 1538041.375, 1539301.875, 1540514.   ,\n",
       "        1541690.875, 1542800.375, 1543832.625, 1544810.   , 1545726.375,\n",
       "        1546562.5  , 1547340.5  , 1548064.   , 1548691.125, 1549279.625,\n",
       "        1549781.375, 1550241.   , 1550611.   , 1550929.375, 1551141.5  ,\n",
       "        1551315.125, 1551427.625, 1551479.125, 1551434.125, 1551315.   ,\n",
       "        1551154.375, 1550897.125, 1550575.5  , 1550189.625, 1549736.125,\n",
       "        1549234.625, 1548643.   , 1548006.375, 1547283.   , 1546517.5  ,\n",
       "        1545697.5  , 1544800.375, 1543845.375, 1542816.5  , 1541752.   ,\n",
       "        1540620.   , 1539430.5  , 1538189.125, 1536893.375, 1535575.   ,\n",
       "        1534195.5  , 1532764.5  , 1531275.625, 1529761.125, 1528182.375,\n",
       "        1526590.625, 1524960.375, 1523307.5  , 1521606.625, 1519879.875,\n",
       "        1518143.5  , 1516371.625, 1514571.   , 1512757.375, 1510914.875,\n",
       "        1509069.125, 1507207.   , 1505348.625, 1503477.125, 1501596.125,\n",
       "        1499711.875, 1497830.5  , 1495943.   , 1494091.125, 1492242.125,\n",
       "        1490425.375, 1488595.625, 1486810.875, 1485026.375, 1483280.125,\n",
       "        1481592.125, 1479891.   , 1478218.875, 1476614.5  , 1475032.5  ,\n",
       "        1473501.625, 1471987.125, 1470549.875, 1469131.875, 1467791.   ,\n",
       "        1466504.625, 1465279.625, 1464112.375, 1463006.125, 1461922.5  ,\n",
       "        1460948.125, 1460018.625, 1459163.5  , 1458375.625, 1457671.5  ,\n",
       "        1457038.125, 1456465.625, 1455973.625, 1455568.625, 1455237.125,\n",
       "        1454961.   , 1454796.875, 1454703.5  , 1454668.125, 1454742.   ,\n",
       "        1454874.   , 1455095.875, 1455404.625, 1455784.   , 1456253.5  ,\n",
       "        1456816.375, 1457433.625, 1458128.125, 1458919.125, 2060853.625]])"
      ]
     },
     "execution_count": 100,
     "metadata": {},
     "output_type": "execute_result"
    }
   ],
   "source": [
    "get_daily_value_for_year((\"toa_incident_solar_radiation\", 'tisr'), 1.40625, 0.0, 1979)"
   ]
  },
  {
   "cell_type": "code",
   "execution_count": null,
   "id": "d9035df2",
   "metadata": {},
   "outputs": [],
   "source": []
  }
 ],
 "metadata": {
  "kernelspec": {
   "display_name": "Python 3 (ipykernel)",
   "language": "python",
   "name": "python3"
  },
  "language_info": {
   "codemirror_mode": {
    "name": "ipython",
    "version": 3
   },
   "file_extension": ".py",
   "mimetype": "text/x-python",
   "name": "python",
   "nbconvert_exporter": "python",
   "pygments_lexer": "ipython3",
   "version": "3.9.12"
  }
 },
 "nbformat": 4,
 "nbformat_minor": 5
}
