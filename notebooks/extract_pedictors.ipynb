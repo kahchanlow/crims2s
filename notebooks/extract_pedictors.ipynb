{
 "cells": [
  {
   "cell_type": "code",
   "execution_count": 1,
   "id": "818af9e8",
   "metadata": {},
   "outputs": [],
   "source": [
    "import xarray as xr\n",
    "import os\n",
    "import numpy as np\n",
    "import pandas as pd\n",
    "from datetime import datetime\n",
    "\n",
    "res = 2.8125\n",
    "local_dir = f\"E:\\\\weatherbench\\\\{res}deg\""
   ]
  },
  {
   "cell_type": "code",
   "execution_count": 69,
   "id": "4579bda9",
   "metadata": {},
   "outputs": [],
   "source": [
    "d=xr.open_dataset(\"E:\\\\weatherbench\\\\2.8125deg\\\\toa_incident_solar_radiation\\\\toa_incident_solar_radiation_2.8125deg\\\\toa_incident_solar_radiation_1979_2.8125deg.nc\")"
   ]
  },
  {
   "cell_type": "code",
   "execution_count": 94,
   "id": "df9f9851",
   "metadata": {},
   "outputs": [],
   "source": [
    "lon = 0.0\n",
    "lat = \n",
    "#data = d.query(f\"lon=={lon} and lat=={lat}\")\n",
    "data = d.sel(lon=lon, lat=lat).to_dataframe()['tisr']\n",
    "one_year_daily=np.array([data[i:i+24].mean(axis=0) for i in range(0, len(data), 24)])"
   ]
  },
  {
   "cell_type": "code",
   "execution_count": 2,
   "id": "f9e75b3c",
   "metadata": {},
   "outputs": [],
   "source": [
    "def get_all_4_corners():\n",
    "    d = xr.open_dataset(\"E:\\\\weatherbench\\\\2.8125deg\\\\2m_temperature\\\\2m_temperature_2.8125deg\\\\2m_temperature_1979_2.8125deg.nc\")\n",
    "    lats = [lt.item() for lt in d['lat']]\n",
    "    lons = [ln.item() for ln in d['lon']]\n",
    "    output = []\n",
    "    for i, lat in enumerate(lats):\n",
    "        for j, lon in enumerate(lons):\n",
    "            if i == len(lats)-1:\n",
    "                continue\n",
    "            if j == len(lons)-1:\n",
    "                continue\n",
    "            output.append([(lat, lon), (lat, lons[i+1]), (lats[i+1], lon), (lats[i+1], lons[i+1])])\n",
    "    return output\n",
    "\n",
    "\n",
    "def get_daily_value_for_year(feature_info, lat, lon, year):\n",
    "    feature, df_fld = feature_info\n",
    "    d = xr.open_dataset(os.path.join(local_dir, feature, f\"{feature}_{res}deg\", f\"{feature}_{year}_{res}deg.nc\"))\n",
    "    data = d.sel(lon=lon, lat=lat).to_dataframe()[df_fld]\n",
    "    # hourly temperature: each day covers 24 entries. Take the daily average over 24hrs\n",
    "    one_year_daily=np.array([np.mean(data[i:i+24]) for i in range(0, len(data), 24)])\n",
    "    return one_year_daily[:365].reshape((1, 365))\n",
    "\n",
    "\n",
    "def linearize(x):\n",
    "    linearized = np.array([])\n",
    "    for chunk in x:\n",
    "        linearized = np.concatenate((linearized, chunk), axis=0)\n",
    "    return linearized\n",
    "\n",
    "\n",
    "def detrend(feature, lat, lon, years, nombor=0):\n",
    "    \"\"\"\n",
    "    Extract the mean feature value for each day in a year over the period between y1 and y2 inclusive and use\n",
    "    it to do seasonal detrending.\n",
    "    \"\"\"\n",
    "    y1, y2 = years\n",
    "    data = None\n",
    "    for y in range(y1, y2+1):\n",
    "        more_data = get_daily_value_for_year(feature, lat, lon, y)\n",
    "        if data is None:\n",
    "            data = more_data\n",
    "        else:\n",
    "            data = np.concatenate((data, more_data), axis=0)\n",
    "#    np.savetxt(f\"daily_averages{nombor}.txt\", data, delimiter=',')\n",
    "    # means is an array where mean[0] is the feature value average over the years between y1 and y2 on the \n",
    "    # on the first day of a year\n",
    "    means = np.array([np.array([data[i, j] for i in range(y2-y1+1)]).mean() for j in range(365)])\n",
    "    detrended = data - means\n",
    "    return detrended, means, data\n",
    "\n",
    "def get_autummn_day_indices():\n",
    "    autumn_1st_day = datetime(1979, 9, 22).timetuple().tm_yday\n",
    "    autumn_last_day = datetime(1979, 12, 22).timetuple().tm_yday\n",
    "    return (autumn_1st_day, autumn_last_day)\n"
   ]
  },
  {
   "cell_type": "code",
   "execution_count": 3,
   "id": "ee69ce25",
   "metadata": {},
   "outputs": [
    {
     "data": {
      "text/plain": [
       "(-1.40625, 177.1875)"
      ]
     },
     "execution_count": 3,
     "metadata": {},
     "output_type": "execute_result"
    }
   ],
   "source": [
    "semua = get_all_4_corners()\n",
    "semua[4000][0]"
   ]
  },
  {
   "cell_type": "code",
   "execution_count": null,
   "id": "6cf63306",
   "metadata": {},
   "outputs": [],
   "source": [
    "first_day, last_day = get_autummn_day_indices()\n",
    "avgs_empat = []\n",
    "for pt in semua[4000]:\n",
    "    detrended, _, _ = detrend((\"toa_incident_solar_radiation\", 'tisr'), *pt, (1979, 1982))\n",
    "    avgs_empat.append([x.mean() for x in detrended[:, first_day:last_day]])"
   ]
  },
  {
   "cell_type": "code",
   "execution_count": 11,
   "id": "15e66741",
   "metadata": {},
   "outputs": [],
   "source": [
    "df = pd.read_csv(\"yearly_winter_anomaly_clusters.csv\")"
   ]
  },
  {
   "cell_type": "code",
   "execution_count": null,
   "id": "71691be2",
   "metadata": {},
   "outputs": [],
   "source": []
  }
 ],
 "metadata": {
  "kernelspec": {
   "display_name": "Python 3 (ipykernel)",
   "language": "python",
   "name": "python3"
  },
  "language_info": {
   "codemirror_mode": {
    "name": "ipython",
    "version": 3
   },
   "file_extension": ".py",
   "mimetype": "text/x-python",
   "name": "python",
   "nbconvert_exporter": "python",
   "pygments_lexer": "ipython3",
   "version": "3.9.12"
  }
 },
 "nbformat": 4,
 "nbformat_minor": 5
}
