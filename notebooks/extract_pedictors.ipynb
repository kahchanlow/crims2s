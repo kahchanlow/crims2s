{
 "cells": [
  {
   "cell_type": "code",
   "execution_count": 1,
   "id": "818af9e8",
   "metadata": {},
   "outputs": [],
   "source": [
    "import xarray as xr\n",
    "import os\n",
    "import numpy as np\n",
    "import pandas as pd\n",
    "from datetime import datetime\n",
    "\n",
    "res = 2.8125\n",
    "local_dir = f\"E:\\\\weatherbench\\\\{res}deg\""
   ]
  },
  {
   "cell_type": "code",
   "execution_count": 69,
   "id": "4579bda9",
   "metadata": {},
   "outputs": [],
   "source": [
    "d=xr.open_dataset(\"E:\\\\weatherbench\\\\2.8125deg\\\\toa_incident_solar_radiation\\\\toa_incident_solar_radiation_2.8125deg\\\\toa_incident_solar_radiation_1979_2.8125deg.nc\")"
   ]
  },
  {
   "cell_type": "code",
   "execution_count": 94,
   "id": "df9f9851",
   "metadata": {},
   "outputs": [],
   "source": [
    "lon = 0.0\n",
    "lat = \n",
    "#data = d.query(f\"lon=={lon} and lat=={lat}\")\n",
    "data = d.sel(lon=lon, lat=lat).to_dataframe()['tisr']\n",
    "one_year_daily=np.array([data[i:i+24].mean(axis=0) for i in range(0, len(data), 24)])"
   ]
  },
  {
   "cell_type": "code",
   "execution_count": 2,
   "id": "f9e75b3c",
   "metadata": {},
   "outputs": [],
   "source": [
    "def get_all_4_corners():\n",
    "    d = xr.open_dataset(\"E:\\\\weatherbench\\\\2.8125deg\\\\2m_temperature\\\\2m_temperature_2.8125deg\\\\2m_temperature_1979_2.8125deg.nc\")\n",
    "    lats = [lt.item() for lt in d['lat']]\n",
    "    lons = [ln.item() for ln in d['lon']]\n",
    "    output = []\n",
    "    for i, lat in enumerate(lats):\n",
    "        for j, lon in enumerate(lons):\n",
    "            if i == len(lats)-1:\n",
    "                continue\n",
    "            if j == len(lons)-1:\n",
    "                continue\n",
    "            output.append([(lat, lon), (lat, lons[i+1]), (lats[i+1], lon), (lats[i+1], lons[i+1])])\n",
    "    return output\n",
    "\n",
    "\n",
    "def get_daily_value_for_year(feature_info, lat, lon, year):\n",
    "    feature, df_fld = feature_info\n",
    "    d = xr.open_dataset(os.path.join(local_dir, feature, f\"{feature}_{res}deg\", f\"{feature}_{year}_{res}deg.nc\"))\n",
    "    data = d.sel(lon=lon, lat=lat).to_dataframe()[df_fld]\n",
    "    # hourly temperature: each day covers 24 entries. Take the daily average over 24hrs\n",
    "    one_year_daily=np.array([np.mean(data[i:i+24]) for i in range(0, len(data), 24)])\n",
    "    return one_year_daily[:365].reshape((1, 365))\n",
    "\n",
    "\n",
    "def linearize(x):\n",
    "    linearized = np.array([])\n",
    "    for chunk in x:\n",
    "        linearized = np.concatenate((linearized, chunk), axis=0)\n",
    "    return linearized\n",
    "\n",
    "\n",
    "def detrend(feature, lat, lon, years, nombor=0):\n",
    "    \"\"\"\n",
    "    Extract the mean feature value for each day in a year over the period between y1 and y2 inclusive and use\n",
    "    it to do seasonal detrending.\n",
    "    \"\"\"\n",
    "    y1, y2 = years\n",
    "    data = None\n",
    "    for y in range(y1, y2+1):\n",
    "        more_data = get_daily_value_for_year(feature, lat, lon, y)\n",
    "        if data is None:\n",
    "            data = more_data\n",
    "        else:\n",
    "            data = np.concatenate((data, more_data), axis=0)\n",
    "#    np.savetxt(f\"daily_averages{nombor}.txt\", data, delimiter=',')\n",
    "    # means is an array where mean[0] is the feature value average over the years between y1 and y2 on the \n",
    "    # on the first day of a year\n",
    "    means = np.array([np.array([data[i, j] for i in range(y2-y1+1)]).mean() for j in range(365)])\n",
    "    detrended = data - means\n",
    "    return detrended, means, data\n",
    "\n",
    "def get_autummn_day_indices():\n",
    "    autumn_1st_day = datetime(1979, 9, 22).timetuple().tm_yday\n",
    "    autumn_last_day = datetime(1979, 12, 22).timetuple().tm_yday\n",
    "    return (autumn_1st_day, autumn_last_day)\n"
   ]
  },
  {
   "cell_type": "code",
   "execution_count": 3,
   "id": "ee69ce25",
   "metadata": {},
   "outputs": [
    {
     "data": {
      "text/plain": [
       "(-1.40625, 177.1875)"
      ]
     },
     "execution_count": 3,
     "metadata": {},
     "output_type": "execute_result"
    }
   ],
   "source": [
    "semua = get_all_4_corners()\n",
    "semua[4000][0]"
   ]
  },
  {
   "cell_type": "code",
   "execution_count": 22,
   "id": "6cf63306",
   "metadata": {},
   "outputs": [],
   "source": [
    "first_day, last_day = get_autummn_day_indices()\n",
    "avgs_empat = []\n",
    "year_start = 1979\n",
    "year_end = 1982\n",
    "for pt in semua[4000]:\n",
    "    detrended, _, _ = detrend((\"toa_incident_solar_radiation\", 'tisr'), *pt, (year_start, year_end))\n",
    "    avgs_empat.append([x.mean() for x in detrended[:, first_day:last_day]])\n"
   ]
  },
  {
   "cell_type": "code",
   "execution_count": 35,
   "id": "085eebda",
   "metadata": {},
   "outputs": [
    {
     "data": {
      "text/html": [
       "<div>\n",
       "<style scoped>\n",
       "    .dataframe tbody tr th:only-of-type {\n",
       "        vertical-align: middle;\n",
       "    }\n",
       "\n",
       "    .dataframe tbody tr th {\n",
       "        vertical-align: top;\n",
       "    }\n",
       "\n",
       "    .dataframe thead th {\n",
       "        text-align: right;\n",
       "    }\n",
       "</style>\n",
       "<table border=\"1\" class=\"dataframe\">\n",
       "  <thead>\n",
       "    <tr style=\"text-align: right;\">\n",
       "      <th></th>\n",
       "      <th>loc0</th>\n",
       "      <th>loc1</th>\n",
       "      <th>loc2</th>\n",
       "      <th>loc3</th>\n",
       "    </tr>\n",
       "  </thead>\n",
       "  <tbody>\n",
       "    <tr>\n",
       "      <th>0</th>\n",
       "      <td>63.202610</td>\n",
       "      <td>-201.821429</td>\n",
       "      <td>-102.199519</td>\n",
       "      <td>-333.901099</td>\n",
       "    </tr>\n",
       "    <tr>\n",
       "      <th>1</th>\n",
       "      <td>326.640797</td>\n",
       "      <td>401.210165</td>\n",
       "      <td>611.827953</td>\n",
       "      <td>677.048077</td>\n",
       "    </tr>\n",
       "    <tr>\n",
       "      <th>2</th>\n",
       "      <td>-23.581731</td>\n",
       "      <td>75.223901</td>\n",
       "      <td>-154.277816</td>\n",
       "      <td>-68.027473</td>\n",
       "    </tr>\n",
       "    <tr>\n",
       "      <th>3</th>\n",
       "      <td>-366.261676</td>\n",
       "      <td>-274.612637</td>\n",
       "      <td>-355.350618</td>\n",
       "      <td>-275.119505</td>\n",
       "    </tr>\n",
       "  </tbody>\n",
       "</table>\n",
       "</div>"
      ],
      "text/plain": [
       "         loc0        loc1        loc2        loc3\n",
       "0   63.202610 -201.821429 -102.199519 -333.901099\n",
       "1  326.640797  401.210165  611.827953  677.048077\n",
       "2  -23.581731   75.223901 -154.277816  -68.027473\n",
       "3 -366.261676 -274.612637 -355.350618 -275.119505"
      ]
     },
     "execution_count": 35,
     "metadata": {},
     "output_type": "execute_result"
    }
   ],
   "source": [
    "pd_data = pd.DataFrame(data=np.array(avgs_empat).T, columns=['loc0', 'loc1', 'loc2', 'loc3'])\n",
    "pd_data"
   ]
  },
  {
   "cell_type": "code",
   "execution_count": 11,
   "id": "341fa5e4",
   "metadata": {},
   "outputs": [],
   "source": [
    "df = pd.read_csv(\"yearly_winter_anomaly_clusters.csv\")"
   ]
  },
  {
   "cell_type": "code",
   "execution_count": 33,
   "id": "6dbca541",
   "metadata": {},
   "outputs": [
    {
     "data": {
      "text/plain": [
       "array([[  63.20260989, -201.82142857, -102.19951923, -333.9010989 ],\n",
       "       [ 326.6407967 ,  401.21016484,  611.8279533 ,  677.04807692],\n",
       "       [ -23.58173077,   75.2239011 , -154.27781593,  -68.02747253],\n",
       "       [-366.26167582, -274.61263736, -355.35061813, -275.11950549]])"
      ]
     },
     "execution_count": 33,
     "metadata": {},
     "output_type": "execute_result"
    }
   ],
   "source": [
    "nn"
   ]
  },
  {
   "cell_type": "code",
   "execution_count": null,
   "id": "b3781961",
   "metadata": {},
   "outputs": [],
   "source": []
  }
 ],
 "metadata": {
  "kernelspec": {
   "display_name": "Python 3 (ipykernel)",
   "language": "python",
   "name": "python3"
  },
  "language_info": {
   "codemirror_mode": {
    "name": "ipython",
    "version": 3
   },
   "file_extension": ".py",
   "mimetype": "text/x-python",
   "name": "python",
   "nbconvert_exporter": "python",
   "pygments_lexer": "ipython3",
   "version": "3.9.12"
  }
 },
 "nbformat": 4,
 "nbformat_minor": 5
}
